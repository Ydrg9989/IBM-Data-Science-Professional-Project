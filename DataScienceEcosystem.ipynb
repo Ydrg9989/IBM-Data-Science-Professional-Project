{
 "cells": [
  {
   "cell_type": "markdown",
   "id": "e9a7ae5a",
   "metadata": {},
   "source": [
    "# Data Science Tools and Ecosystem"
   ]
  },
  {
   "cell_type": "markdown",
   "id": "4f2a2717",
   "metadata": {},
   "source": [
    "In this notebook, Data Science Tools and Ecosystem are summarized."
   ]
  },
  {
   "cell_type": "markdown",
   "id": "e2005994",
   "metadata": {},
   "source": [
    "Some of the popular languages that Data Scientists use are:\n",
    "1. python\n",
    "2. R\n",
    "3. SQL\n",
    "4. Java"
   ]
  },
  {
   "cell_type": "markdown",
   "id": "b5539e84",
   "metadata": {},
   "source": [
    "Some of the commonly used libraries used by Data Scientists include:\n",
    "1. Pandas\n",
    "2. Numpy\n",
    "3. Scipy\n",
    "4. Matplotlib\n",
    "5. Keras"
   ]
  },
  {
   "cell_type": "markdown",
   "id": "c0f9a00a",
   "metadata": {},
   "source": [
    "|Data Science Tools|\n",
    ":-----|\n",
    "|Anaconda|\n",
    "|RStudio|\n",
    "|Apache Spark|\n",
    "|Spyder|"
   ]
  },
  {
   "cell_type": "markdown",
   "id": "01fbf1a0",
   "metadata": {},
   "source": [
    "### Below are a few examples of evaluating arithmetic expressions in Python.\n"
   ]
  },
  {
   "cell_type": "code",
   "execution_count": 2,
   "id": "eeb9065a",
   "metadata": {},
   "outputs": [
    {
     "data": {
      "text/plain": [
       "17"
      ]
     },
     "execution_count": 2,
     "metadata": {},
     "output_type": "execute_result"
    }
   ],
   "source": [
    "#  This a simple arithmetic expression to mutiply then add integers.\n",
    "(3*4)+5"
   ]
  },
  {
   "cell_type": "code",
   "execution_count": 1,
   "id": "83cde847",
   "metadata": {
    "scrolled": false
   },
   "outputs": [
    {
     "data": {
      "text/plain": [
       "3"
      ]
     },
     "execution_count": 1,
     "metadata": {},
     "output_type": "execute_result"
    }
   ],
   "source": [
    "# This will convert 200 minutes to hours by diving by 60.\n",
    "200//60"
   ]
  },
  {
   "cell_type": "markdown",
   "id": "2cb31efa",
   "metadata": {},
   "source": [
    "**Objectives:**\n",
    "* Add comments to code cell\n",
    "* Create code cells\n",
    "* List data science tools\n",
    "* Add list to markdown cells"
   ]
  },
  {
   "cell_type": "markdown",
   "id": "3cca5214",
   "metadata": {},
   "source": [
    "## Author\n",
    "Yiderigun"
   ]
  },
  {
   "cell_type": "code",
   "execution_count": null,
   "id": "704295f6",
   "metadata": {},
   "outputs": [],
   "source": []
  }
 ],
 "metadata": {
  "kernelspec": {
   "display_name": "Python 3 (ipykernel)",
   "language": "python",
   "name": "python3"
  },
  "language_info": {
   "codemirror_mode": {
    "name": "ipython",
    "version": 3
   },
   "file_extension": ".py",
   "mimetype": "text/x-python",
   "name": "python",
   "nbconvert_exporter": "python",
   "pygments_lexer": "ipython3",
   "version": "3.11.5"
  }
 },
 "nbformat": 4,
 "nbformat_minor": 5
}
